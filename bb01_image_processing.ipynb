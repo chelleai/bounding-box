{
 "cells": [
  {
   "cell_type": "markdown",
   "id": "1747773b",
   "metadata": {},
   "source": [
    "# PDF and Image Processing\n"
   ]
  },
  {
   "cell_type": "code",
   "execution_count": null,
   "id": "f2ff5634",
   "metadata": {},
   "outputs": [],
   "source": [
    "# Imports\n",
    "\n",
    "import os\n",
    "from PIL import Image, ImageColor, ImageDraw, ImageFont\n",
    "from typing import Any, Dict, List\n",
    "\n",
    "from upper_bounds import (\n",
    "    get_solution_numbers,\n",
    "    get_solution_upper_bounds,    \n",
    "    get_numbered_solution_upper_bounds,\n",
    ")\n",
    "from util import (\n",
    "    convert_pil_image_to_bytes,\n",
    "    convert_pdf_to_pil_image,\n",
    "    load_image_from_file,\n",
    "    plot_solution_upper_bounds,\n",
    "    resize_jpeg_image,\n",
    "    resize_jpeg_image_ratio,\n",
    "    resize_jpeg_image_height,\n",
    "    sharpen_text,\n",
    ")\n"
   ]
  },
  {
   "cell_type": "code",
   "execution_count": null,
   "id": "51d2ff9f",
   "metadata": {},
   "outputs": [],
   "source": [
    "#\n",
    "\n",
    "input_directory = \"pdf\"\n",
    "pdfs = sorted(os.listdir(input_directory))\n",
    "pdfs\n"
   ]
  },
  {
   "cell_type": "code",
   "execution_count": null,
   "id": "ada759b5",
   "metadata": {},
   "outputs": [],
   "source": [
    "#\n",
    "\n",
    "orig_suffix = \"_original\""
   ]
  },
  {
   "cell_type": "code",
   "execution_count": null,
   "id": "51f04108",
   "metadata": {},
   "outputs": [],
   "source": [
    "# Convert PDFs to JPEGs and save them to the \"jpg\" directory\n",
    "\n",
    "orig_suffix = \"_original\"\n",
    "\n",
    "input_directory = \"pdf\"\n",
    "pdfs = sorted(os.listdir(input_directory))\n",
    "pdfs = [pdf.split(\".pdf\")[0] for pdf in pdfs]\n",
    "pdfs = {pdf: [] for pdf in pdfs}\n",
    "pdfs[\"MAE_101B_HW_01\"] = [2, 3, 4, 5, 6, 7]\n",
    "pdfs[\"MAE_101B_HW_01\"] = [2, 3, 4, 5, 6]\n",
    "pdfs[\"MAE_101B_HW_02\"] = [1, 2, 3, 4, 5, 6]\n",
    "pdfs[\"MAE_101B_HW_03\"] = [1, 2, 3, 4, 5]\n",
    "\n",
    "\n",
    "for pdf, pages in pdfs.items():\n",
    "    print(f\"{pdf}: {pages}\")\n",
    "    image = convert_pdf_to_pil_image(input_directory, pdf, pages=pages, stack=False, output_directory=\"jpg\", dpi=150, quality=100, suffix=orig_suffix)\n"
   ]
  },
  {
   "cell_type": "code",
   "execution_count": null,
   "id": "aa8a060f",
   "metadata": {},
   "outputs": [],
   "source": [
    "#\n",
    "\n",
    "# input_directory = \"jpg\"\n",
    "# jpgs = sorted(os.listdir(input_directory))\n",
    "# jpgs = [jpg for jpg in jpgs if orig_suffix in jpg]\n",
    "# # print(jpgs)\n",
    "\n",
    "# # heights = [2000, 3000, 4000]\n",
    "\n",
    "# for jpg in jpgs:\n",
    "#     image = load_image_from_file(os.path.join(input_directory, jpg))\n",
    "#     print(f\"{jpg}: {image.size}\")\n",
    "#     resized_jpeg = resize_jpeg_image_ratio(input_directory, jpg.split(\".jpg\")[0], ratio=0.5, quality=96, suffix=orig_suffix)\n",
    "#     print(f\"-- Resized to {resized_jpeg.size}\")\n",
    "\n"
   ]
  },
  {
   "cell_type": "code",
   "execution_count": null,
   "id": "fb26d660",
   "metadata": {},
   "outputs": [],
   "source": [
    "#\n",
    "\n",
    "input_directory = \"jpg\"\n",
    "jpgs = sorted(os.listdir(input_directory))\n",
    "jpgs = [jpg for jpg in jpgs if orig_suffix in jpg]\n",
    "# print(jpgs)\n",
    "\n",
    "heights = [640, 768]\n",
    "\n",
    "for jpg in jpgs:\n",
    "    image = load_image_from_file(os.path.join(input_directory, jpg))\n",
    "    print(f\"{jpg}: {image.size}\")\n",
    "    for height in heights:\n",
    "        resized_jpeg = resize_jpeg_image_height(input_directory, jpg.split(\".jpg\")[0], new_height=height, quality=96, suffix=orig_suffix)\n",
    "        print(f\"-- Resized to {resized_jpeg.size}\")\n",
    "\n"
   ]
  },
  {
   "cell_type": "code",
   "execution_count": null,
   "id": "888b161f",
   "metadata": {},
   "outputs": [],
   "source": [
    "#\n",
    "\n",
    "input_directory = \"jpg\"\n",
    "jpgs = sorted(os.listdir(input_directory))\n",
    "jpgs = [jpg for jpg in jpgs if \"_sharpened\" not in jpg]\n",
    "# print(jpgs)\n",
    "\n",
    "for jpg in jpgs:\n",
    "    image = load_image_from_file(os.path.join(input_directory, jpg))\n",
    "    print(f\"{jpg}: {image.size}\")\n",
    "    sharpened_jpeg = sharpen_text(input_directory, jpg.split(\".jpg\")[0], radius=0.5, strength=150, threshold=2)\n",
    "    # print(f\"-- Resized to {resized_jpeg.size}\")\n",
    "\n"
   ]
  },
  {
   "cell_type": "code",
   "execution_count": null,
   "id": "2b1ce1b3",
   "metadata": {},
   "outputs": [],
   "source": []
  }
 ],
 "metadata": {
  "kernelspec": {
   "display_name": "Chelle - Assets Service",
   "language": "python",
   "name": "assets"
  },
  "language_info": {
   "codemirror_mode": {
    "name": "ipython",
    "version": 3
   },
   "file_extension": ".py",
   "mimetype": "text/x-python",
   "name": "python",
   "nbconvert_exporter": "python",
   "pygments_lexer": "ipython3",
   "version": "3.12.0"
  }
 },
 "nbformat": 4,
 "nbformat_minor": 5
}
